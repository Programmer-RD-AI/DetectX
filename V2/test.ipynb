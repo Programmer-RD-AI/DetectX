{
 "cells": [
  {
   "cell_type": "code",
   "execution_count": null,
   "id": "5748c7e5-cf17-4e1a-afda-ade75246fde4",
   "metadata": {},
   "outputs": [],
   "source": [
    "import pandas as pd\n",
    "import matplotlib.pyplot as plt\n",
    "import cv2\n",
    "\n",
    "data_2 = pd.read_csv(\"./download/data/oidv6-train-annotations-bbox.csv\")\n",
    "label = \"/m/02h5d\"\n",
    "data_2[data_2['LabelName'] == '/m/0d7pp']"
   ]
  },
  {
   "cell_type": "code",
   "execution_count": null,
   "id": "728c370d-7703-4620-ba68-767a5730eb92",
   "metadata": {},
   "outputs": [],
   "source": []
  }
 ],
 "metadata": {
  "kernelspec": {
   "display_name": "Python 3.8.8 64-bit ('base': conda)",
   "language": "python",
   "name": "python388jvsc74a57bd07338908a6901250255932625ba4b5c32a9d91564d69b39dc5095100e5c96b0b4"
  },
  "language_info": {
   "codemirror_mode": {
    "name": "ipython",
    "version": 3
   },
   "file_extension": ".py",
   "mimetype": "text/x-python",
   "name": "python",
   "nbconvert_exporter": "python",
   "pygments_lexer": "ipython3",
   "version": "3.8.8"
  }
 },
 "nbformat": 4,
 "nbformat_minor": 5
}
