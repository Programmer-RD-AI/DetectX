{
 "cells": [
  {
   "cell_type": "code",
   "execution_count": 1,
   "metadata": {},
   "outputs": [],
   "source": [
    "import pandas as pd\n",
    "import matplotlib.pyplot as plt\n",
    "import cv2\n",
    "from tqdm import tqdm"
   ]
  },
  {
   "cell_type": "code",
   "execution_count": 2,
   "metadata": {},
   "outputs": [],
   "source": [
    "data = pd.read_csv('./Data.csv').sample(frac=1)"
   ]
  },
  {
   "cell_type": "code",
   "execution_count": 3,
   "metadata": {},
   "outputs": [
    {
     "data": {
      "text/html": [
       "<div>\n",
       "<style scoped>\n",
       "    .dataframe tbody tr th:only-of-type {\n",
       "        vertical-align: middle;\n",
       "    }\n",
       "\n",
       "    .dataframe tbody tr th {\n",
       "        vertical-align: top;\n",
       "    }\n",
       "\n",
       "    .dataframe thead th {\n",
       "        text-align: right;\n",
       "    }\n",
       "</style>\n",
       "<table border=\"1\" class=\"dataframe\">\n",
       "  <thead>\n",
       "    <tr style=\"text-align: right;\">\n",
       "      <th></th>\n",
       "      <th>Path</th>\n",
       "      <th>XMin</th>\n",
       "      <th>YMin</th>\n",
       "      <th>XMax</th>\n",
       "      <th>YMax</th>\n",
       "      <th>ImageID</th>\n",
       "    </tr>\n",
       "  </thead>\n",
       "  <tbody>\n",
       "    <tr>\n",
       "      <th>2332</th>\n",
       "      <td>2554.png</td>\n",
       "      <td>0.036667</td>\n",
       "      <td>0.023333</td>\n",
       "      <td>0.980000</td>\n",
       "      <td>0.950000</td>\n",
       "      <td>092c9764cf66cfc4</td>\n",
       "    </tr>\n",
       "    <tr>\n",
       "      <th>2457</th>\n",
       "      <td>2687.png</td>\n",
       "      <td>0.070722</td>\n",
       "      <td>0.051493</td>\n",
       "      <td>0.946768</td>\n",
       "      <td>0.945522</td>\n",
       "      <td>0058130f1215717d</td>\n",
       "    </tr>\n",
       "    <tr>\n",
       "      <th>1512</th>\n",
       "      <td>1655.png</td>\n",
       "      <td>0.002930</td>\n",
       "      <td>0.054688</td>\n",
       "      <td>0.197266</td>\n",
       "      <td>0.515625</td>\n",
       "      <td>0242b82d966c25c8</td>\n",
       "    </tr>\n",
       "    <tr>\n",
       "      <th>1519</th>\n",
       "      <td>1662.png</td>\n",
       "      <td>0.768555</td>\n",
       "      <td>0.345052</td>\n",
       "      <td>0.999023</td>\n",
       "      <td>0.783854</td>\n",
       "      <td>0242b82d966c25c8</td>\n",
       "    </tr>\n",
       "    <tr>\n",
       "      <th>2339</th>\n",
       "      <td>2561.png</td>\n",
       "      <td>0.260000</td>\n",
       "      <td>0.143000</td>\n",
       "      <td>0.357000</td>\n",
       "      <td>0.337000</td>\n",
       "      <td>000af631fb329557</td>\n",
       "    </tr>\n",
       "    <tr>\n",
       "      <th>...</th>\n",
       "      <td>...</td>\n",
       "      <td>...</td>\n",
       "      <td>...</td>\n",
       "      <td>...</td>\n",
       "      <td>...</td>\n",
       "      <td>...</td>\n",
       "    </tr>\n",
       "    <tr>\n",
       "      <th>1192</th>\n",
       "      <td>1296.png</td>\n",
       "      <td>0.120625</td>\n",
       "      <td>0.020000</td>\n",
       "      <td>0.931875</td>\n",
       "      <td>0.853333</td>\n",
       "      <td>000d96ad76e6b834</td>\n",
       "    </tr>\n",
       "    <tr>\n",
       "      <th>745</th>\n",
       "      <td>792.png</td>\n",
       "      <td>0.154375</td>\n",
       "      <td>0.061667</td>\n",
       "      <td>0.778125</td>\n",
       "      <td>0.900833</td>\n",
       "      <td>001b616c9bd209ff</td>\n",
       "    </tr>\n",
       "    <tr>\n",
       "      <th>513</th>\n",
       "      <td>555.png</td>\n",
       "      <td>0.520000</td>\n",
       "      <td>0.152500</td>\n",
       "      <td>0.999375</td>\n",
       "      <td>0.997500</td>\n",
       "      <td>02ce218553cc3f15</td>\n",
       "    </tr>\n",
       "    <tr>\n",
       "      <th>2008</th>\n",
       "      <td>2187.png</td>\n",
       "      <td>0.312500</td>\n",
       "      <td>0.051595</td>\n",
       "      <td>0.622500</td>\n",
       "      <td>0.373358</td>\n",
       "      <td>15b234c4036dd16c</td>\n",
       "    </tr>\n",
       "    <tr>\n",
       "      <th>266</th>\n",
       "      <td>276.png</td>\n",
       "      <td>0.038750</td>\n",
       "      <td>0.352060</td>\n",
       "      <td>0.119375</td>\n",
       "      <td>0.411985</td>\n",
       "      <td>000ca4a1855318b1</td>\n",
       "    </tr>\n",
       "  </tbody>\n",
       "</table>\n",
       "<p>2682 rows × 6 columns</p>\n",
       "</div>"
      ],
      "text/plain": [
       "          Path      XMin      YMin      XMax      YMax           ImageID\n",
       "2332  2554.png  0.036667  0.023333  0.980000  0.950000  092c9764cf66cfc4\n",
       "2457  2687.png  0.070722  0.051493  0.946768  0.945522  0058130f1215717d\n",
       "1512  1655.png  0.002930  0.054688  0.197266  0.515625  0242b82d966c25c8\n",
       "1519  1662.png  0.768555  0.345052  0.999023  0.783854  0242b82d966c25c8\n",
       "2339  2561.png  0.260000  0.143000  0.357000  0.337000  000af631fb329557\n",
       "...        ...       ...       ...       ...       ...               ...\n",
       "1192  1296.png  0.120625  0.020000  0.931875  0.853333  000d96ad76e6b834\n",
       "745    792.png  0.154375  0.061667  0.778125  0.900833  001b616c9bd209ff\n",
       "513    555.png  0.520000  0.152500  0.999375  0.997500  02ce218553cc3f15\n",
       "2008  2187.png  0.312500  0.051595  0.622500  0.373358  15b234c4036dd16c\n",
       "266    276.png  0.038750  0.352060  0.119375  0.411985  000ca4a1855318b1\n",
       "\n",
       "[2682 rows x 6 columns]"
      ]
     },
     "execution_count": 3,
     "metadata": {},
     "output_type": "execute_result"
    }
   ],
   "source": [
    "data"
   ]
  },
  {
   "cell_type": "code",
   "execution_count": 5,
   "metadata": {},
   "outputs": [],
   "source": [
    "new_data = []"
   ]
  },
  {
   "cell_type": "code",
   "execution_count": 8,
   "metadata": {},
   "outputs": [],
   "source": [
    "import numpy as np"
   ]
  },
  {
   "cell_type": "code",
   "execution_count": 9,
   "metadata": {},
   "outputs": [],
   "source": [
    "imageids = np.load('imageids.npy')"
   ]
  },
  {
   "cell_type": "code",
   "execution_count": 10,
   "metadata": {},
   "outputs": [
    {
     "data": {
      "text/plain": [
       "array(['0000a566f5d88cb6', '0000a566f5d88cb6', '0000f53faa4d14c3', ...,\n",
       "       '50db36cf0e7a9b63', '50db36cf0e7a9b63', '50db36cf0e7a9b63'],\n",
       "      dtype='<U16')"
      ]
     },
     "execution_count": 10,
     "metadata": {},
     "output_type": "execute_result"
    }
   ],
   "source": [
    "imageids"
   ]
  },
  {
   "cell_type": "code",
   "execution_count": 14,
   "metadata": {},
   "outputs": [],
   "source": [
    "for d in data.iloc:\n",
    "    if d['ImageID'] in list(imageids):\n",
    "        new_data.append(d)"
   ]
  },
  {
   "cell_type": "code",
   "execution_count": 17,
   "metadata": {},
   "outputs": [],
   "source": [
    "new_data = pd.DataFrame(new_data)"
   ]
  },
  {
   "cell_type": "code",
   "execution_count": 19,
   "metadata": {},
   "outputs": [],
   "source": [
    "new_data.to_csv('./Data.csv')"
   ]
  },
  {
   "cell_type": "code",
   "execution_count": 29,
   "metadata": {},
   "outputs": [],
   "source": [
    "# info = new_data.iloc[489]\n",
    "# img = cv2.imread(f'./Img/{info[\"Path\"]}')\n",
    "# height,width = img.shape[:2]\n",
    "# xmin,ymin,xmax,ymax = round(info['XMin']*width),round(info['YMin']*height),round(info['XMax']*width),round(info['YMax']*height)\n",
    "# x = xmin\n",
    "# y = ymin\n",
    "# w = xmax - xmin\n",
    "# h = ymax - ymin\n",
    "# crop = img[y:y+h,x:x+w]\n",
    "# cv2.imwrite('./crop.png',crop)\n",
    "# cv2.rectangle(img,(x,y),(x+w,y+h),(200,0,0),25)\n",
    "# cv2.imwrite('./box.png',img)\n",
    "# plt.imshow(img)"
   ]
  },
  {
   "cell_type": "code",
   "execution_count": null,
   "metadata": {},
   "outputs": [],
   "source": []
  }
 ],
 "metadata": {
  "interpreter": {
   "hash": "7338908a6901250255932625ba4b5c32a9d91564d69b39dc5095100e5c96b0b4"
  },
  "kernelspec": {
   "display_name": "Python 3.8.8 64-bit ('base': conda)",
   "language": "python",
   "name": "python388jvsc74a57bd07338908a6901250255932625ba4b5c32a9d91564d69b39dc5095100e5c96b0b4"
  },
  "language_info": {
   "codemirror_mode": {
    "name": "ipython",
    "version": 3
   },
   "file_extension": ".py",
   "mimetype": "text/x-python",
   "name": "python",
   "nbconvert_exporter": "python",
   "pygments_lexer": "ipython3",
   "version": "3.8.8"
  }
 },
 "nbformat": 4,
 "nbformat_minor": 4
}
